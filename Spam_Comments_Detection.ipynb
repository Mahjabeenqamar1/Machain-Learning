{
  "nbformat": 4,
  "nbformat_minor": 0,
  "metadata": {
    "colab": {
      "provenance": [],
      "authorship_tag": "ABX9TyOX/zsG6u8jXOA+5/ABwDY1",
      "include_colab_link": true
    },
    "kernelspec": {
      "name": "python3",
      "display_name": "Python 3"
    },
    "language_info": {
      "name": "python"
    }
  },
  "cells": [
    {
      "cell_type": "markdown",
      "metadata": {
        "id": "view-in-github",
        "colab_type": "text"
      },
      "source": [
        "<a href=\"https://colab.research.google.com/github/Mahjabeenqamar1/Machain-Learning/blob/main/Spam_Comments_Detection.ipynb\" target=\"_parent\"><img src=\"https://colab.research.google.com/assets/colab-badge.svg\" alt=\"Open In Colab\"/></a>"
      ]
    },
    {
      "cell_type": "code",
      "execution_count": 10,
      "metadata": {
        "id": "tuQSa6TuI0fV"
      },
      "outputs": [],
      "source": []
    },
    {
      "cell_type": "markdown",
      "source": [
        "#Spam Comments Detection\n",
        "To detect spam comments with Machine Learning, we need labelled data of spam comments. Luckily, I found a dataset on Kaggle about YouTube spam comments which will be helpful for the task of spam comments detection"
      ],
      "metadata": {
        "id": "z7axWIgQWWaJ"
      }
    },
    {
      "cell_type": "code",
      "source": [
        "# Import the librarys\n",
        "import pandas as pd\n",
        "import numpy as np\n",
        "from sklearn.feature_extraction.text import CountVectorizer\n",
        "from sklearn.model_selection import train_test_split\n",
        "from sklearn.naive_bayes import BernoulliNB"
      ],
      "metadata": {
        "id": "BsTBPmeRWduX"
      },
      "execution_count": 11,
      "outputs": []
    },
    {
      "cell_type": "code",
      "source": [
        "#Read the data in Spam Comments Detection and get the data in kaggle \n",
        "data = pd.read_csv(\"/content/Youtube01-Psy.csv\")\n",
        "print(data.sample(5))"
      ],
      "metadata": {
        "colab": {
          "base_uri": "https://localhost:8080/"
        },
        "id": "1sOPw-dHXBzk",
        "outputId": "505b94c3-af69-4d3d-d0e5-980408202417"
      },
      "execution_count": 12,
      "outputs": [
        {
          "output_type": "stream",
          "name": "stdout",
          "text": [
            "                                      COMMENT_ID        AUTHOR  \\\n",
            "1    LZQPQhLyRh_C2cTtd9MvFRJedxydaVW-2sNg5Diuo4A   adam riyati   \n",
            "76           z13gsp34uumcdje4q04civk54zr4wr0gxjc      Lucky D.   \n",
            "319        z12ct5z5hsnsjjpii04ccbzztmf1ulxxous0k  Viperas Lord   \n",
            "4            z13fwbwp1oujthgqj04chlngpvzmtt3r3dw        GsMega   \n",
            "52         z120grixiomvyvbga04cfl24csz5jf4zzuc0k        eSkiip   \n",
            "\n",
            "                    DATE                                            CONTENT  \\\n",
            "1    2013-11-07T12:37:15  Hey guys check out my new channel and our firs...   \n",
            "76   2014-11-02T14:53:06         http://hackfbaccountlive.com/?ref=4604617﻿   \n",
            "319  2014-11-12T09:20:12      www.marketglory.com/strategygame/lordviperas﻿   \n",
            "4    2013-11-10T16:05:38            watch?v=vtaRGgvGtWQ   Check this out .﻿   \n",
            "52   2014-01-20T17:22:53  This video will get to 2 billion just because ...   \n",
            "\n",
            "     CLASS  \n",
            "1        1  \n",
            "76       1  \n",
            "319      1  \n",
            "4        1  \n",
            "52       0  \n"
          ]
        }
      ]
    },
    {
      "cell_type": "code",
      "source": [
        "#We only need the content and class column from the dataset\n",
        "data = data[[\"CONTENT\", \"CLASS\"]]\n",
        "print(data.sample(5))"
      ],
      "metadata": {
        "colab": {
          "base_uri": "https://localhost:8080/"
        },
        "id": "dtFZcdapXd67",
        "outputId": "95ee36b8-8ad3-493e-dce0-babd5bb76c85"
      },
      "execution_count": 13,
      "outputs": [
        {
          "output_type": "stream",
          "name": "stdout",
          "text": [
            "                                               CONTENT  CLASS\n",
            "268  https://www.facebook.com/pages/Mathster-WP/149...      1\n",
            "201                      i am 2,126,492,636 viewer :D﻿      0\n",
            "191  The Guy in the yellow suit kinda looks like Ja...      0\n",
            "215  Hello! I'm kind of new to Youtube, And soon i'...      1\n",
            "111  Hi everyone! Do you like music? Then why not c...      1\n"
          ]
        }
      ]
    },
    {
      "cell_type": "code",
      "source": [
        "#The class column contains values 0 and 1. 0 indicates not spam, and 1 indicates spam\n",
        "data[\"CLASS\"] = data[\"CLASS\"].map({0: \"Not Spam\",\n",
        "                                   1: \"Spam Comment\"})\n",
        "print(data.sample(5))"
      ],
      "metadata": {
        "colab": {
          "base_uri": "https://localhost:8080/"
        },
        "id": "HT9mYmv1Xd-k",
        "outputId": "4f6fd659-aa11-4db0-b536-e98816892b65"
      },
      "execution_count": 14,
      "outputs": [
        {
          "output_type": "stream",
          "name": "stdout",
          "text": [
            "                                               CONTENT         CLASS\n",
            "197                            this has so many views﻿      Not Spam\n",
            "16                        I'm only checking the views﻿      Not Spam\n",
            "178  Please give us a chance and check out the new ...  Spam Comment\n",
            "339  http://www.bing.com/explore/rewards?PUBL=REFER...  Spam Comment\n",
            "24                                CHECK OUT MY CHANNEL  Spam Comment\n"
          ]
        }
      ]
    },
    {
      "cell_type": "markdown",
      "source": [
        "# What is NP array () in Python?\n",
        " A numpy array is a grid of values, all of the same type, and is indexed by a tuple of nonnegative integers. The number of dimensions is the rank of the array; the shape of an array is a tuple of integers giving the size of the array along each dimension."
      ],
      "metadata": {
        "id": "hv4oh3WgVdhQ"
      }
    },
    {
      "cell_type": "code",
      "source": [
        "\n",
        "x = np.array(data[\"CONTENT\"])\n",
        "y = np.array(data[\"CLASS\"])"
      ],
      "metadata": {
        "id": "rYsjnW5SYwCq"
      },
      "execution_count": 15,
      "outputs": []
    },
    {
      "cell_type": "markdown",
      "source": [
        "# CountVectorizer\n",
        "Scikit-learn's CountVectorizer is used to convert a collection of text documents to a vector of term/token counts.\n",
        "\n",
        "\n",
        "What is CountVectorizer in NLP?\n",
        "What is CountVectorizer In NLP? CountVectorizer means breaking down a sentence or any text into words by performing preprocessing tasks like converting all words to lowercase, thus removing special characters."
      ],
      "metadata": {
        "id": "z0o5NVBvVkbo"
      }
    },
    {
      "cell_type": "code",
      "source": [
        "cv = CountVectorizer()\n",
        "x = cv.fit_transform(x)"
      ],
      "metadata": {
        "id": "QWdsC0U3Y3rR"
      },
      "execution_count": 16,
      "outputs": []
    },
    {
      "cell_type": "markdown",
      "source": [],
      "metadata": {
        "id": "eYQXAvWzY7Uh"
      }
    },
    {
      "cell_type": "code",
      "source": [
        "# Split the model \n",
        "xtrain, xtest, ytrain, ytest = train_test_split(x, y, \n",
        "                                                test_size=0.2, \n",
        "                                                random_state=42)\n",
        "\n"
      ],
      "metadata": {
        "id": "KIeFFhwzXeDi"
      },
      "execution_count": 17,
      "outputs": []
    },
    {
      "cell_type": "markdown",
      "source": [
        "#Training a Classification Model"
      ],
      "metadata": {
        "id": "OZzXbx15ZL0j"
      }
    },
    {
      "cell_type": "code",
      "source": [
        "model = BernoulliNB()\n",
        "model.fit(xtrain, ytrain)\n",
        "print(model.score(xtest, ytest))"
      ],
      "metadata": {
        "colab": {
          "base_uri": "https://localhost:8080/"
        },
        "id": "KKQg405nZH2z",
        "outputId": "e9cecfa6-4b6f-4b9f-a80a-8e19ff83d01a"
      },
      "execution_count": 18,
      "outputs": [
        {
          "output_type": "stream",
          "name": "stdout",
          "text": [
            "0.9857142857142858\n"
          ]
        }
      ]
    },
    {
      "cell_type": "code",
      "source": [
        "#test the model by giving spam and not spam comments as input:\n",
        "sample = \"Check this out: https://thecleverprogrammer.com/\" \n",
        "data = cv.transform([sample]).toarray()\n",
        "print(model.predict(data))\n"
      ],
      "metadata": {
        "colab": {
          "base_uri": "https://localhost:8080/"
        },
        "id": "i_9zV6fCXeHM",
        "outputId": "7603dc8c-8b65-4daf-f6bf-31be288975f5"
      },
      "execution_count": 19,
      "outputs": [
        {
          "output_type": "stream",
          "name": "stdout",
          "text": [
            "['Spam Comment']\n"
          ]
        }
      ]
    },
    {
      "cell_type": "code",
      "source": [
        "sample = \"Lack of information!\" \n",
        "data = cv.transform([sample]).toarray()\n",
        "print(model.predict(data))"
      ],
      "metadata": {
        "colab": {
          "base_uri": "https://localhost:8080/"
        },
        "id": "bqi4PA-3XeKl",
        "outputId": "8a4c4ae4-554d-4d34-a1a2-8c45c499b3bc"
      },
      "execution_count": 20,
      "outputs": [
        {
          "output_type": "stream",
          "name": "stdout",
          "text": [
            "['Not Spam']\n"
          ]
        }
      ]
    },
    {
      "cell_type": "code",
      "source": [],
      "metadata": {
        "id": "2boiS0BDYn7D"
      },
      "execution_count": 20,
      "outputs": []
    }
  ]
}