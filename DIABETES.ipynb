{
  "nbformat": 4,
  "nbformat_minor": 0,
  "metadata": {
    "colab": {
      "provenance": [],
      "include_colab_link": true
    },
    "kernelspec": {
      "name": "python3",
      "display_name": "Python 3"
    },
    "language_info": {
      "name": "python"
    }
  },
  "cells": [
    {
      "cell_type": "markdown",
      "metadata": {
        "id": "view-in-github",
        "colab_type": "text"
      },
      "source": [
        "<a href=\"https://colab.research.google.com/github/Mahjabeenqamar1/Machain-Learning/blob/main/DIABETES.ipynb\" target=\"_parent\"><img src=\"https://colab.research.google.com/assets/colab-badge.svg\" alt=\"Open In Colab\"/></a>"
      ]
    },
    {
      "cell_type": "markdown",
      "source": [
        "##Diabetes Dataset"
      ],
      "metadata": {
        "id": "AWzrhNrIVH1I"
      }
    },
    {
      "cell_type": "markdown",
      "source": [
        "Import Libraries"
      ],
      "metadata": {
        "id": "24ORgh9nUxee"
      }
    },
    {
      "cell_type": "code",
      "source": [
        "import pandas as pd\n",
        "import numpy as np\n",
        "from sklearn.ensemble import RandomForestClassifier\n",
        "from sklearn import metrics\n",
        "from sklearn.model_selection import cross_val_score\n",
        "from sklearn.metrics import precision_score\n",
        "from sklearn.metrics import f1_score\n",
        "from sklearn.metrics import recall_score\n",
        "from sklearn.metrics import classification_report,confusion_matrix\n",
        "from sklearn.svm import SVC"
      ],
      "metadata": {
        "id": "kCchfzdlUxwc"
      },
      "execution_count": null,
      "outputs": []
    },
    {
      "cell_type": "markdown",
      "source": [
        "##Random Forest Classifier"
      ],
      "metadata": {
        "id": "24upMK7KVP5R"
      }
    },
    {
      "cell_type": "code",
      "source": [
        "df = pd.read_csv('/content/drive/MyDrive/Data_set/Pima_Indians Diabetes_Database/diabetes.csv')\n",
        "df.head()\n",
        "x = df.drop(['Outcome'], axis=1)\n",
        "y = df['Outcome']\n",
        "#Train , Test and  Split data\n",
        "# from sklearn.model_selection import train_test_split\n",
        "x_train,x_test,y_train,y_test=train_test_split(x,y,test_size=0.20)\n",
        "\n",
        "#Fit the RandomForestClassifier model\n",
        "model = RandomForestClassifier(max_depth=2, random_state=0)\n",
        "model.fit(x_train,y_train)\n",
        "\n",
        "# Predic the Y_Test data\n",
        "y_pred=model.predict(x_test)\n",
        "# print(y_pred)\n",
        "\n",
        "\n",
        "# comparing actual response values (y_test) with predicted response values (y_pred)\n",
        "score = model.score(x_train,y_train)\n",
        "print(\"Score: \", score)\n",
        "\n",
        "#cross_val_score\n",
        "accuracies = cross_val_score(estimator = model, X = x_train, y = y_train, cv = 10)\n",
        "print(\"RandomForestClassifier model accuracy for mean(in %):\", accuracies.mean())\n",
        "\n",
        "\n",
        "#precision_score\n",
        "precision_score_svc = precision_score(y_test, y_pred, average='macro')\n",
        "print(\"RandomForestClassifier model accuracy for precision_score(in %):\",precision_score_svc)\n",
        "\n",
        "#F1 score\n",
        "f1_score_svc = f1_score(y_test, y_pred, average='macro')\n",
        "print(\"RandomForestClassifier model accuracy for F1_score(in %):\",f1_score_svc)\n",
        "\n",
        "# recall score\n",
        "\n",
        "recall_score_svc = recall_score(y_test, y_pred, average='macro')\n",
        "print(recall_score_svc)\n",
        "recall_score_svc = metrics.recall_score(y_test, y_pred, average='macro')\n",
        "print(\"RandomForestClassifier model accuracy for Recall_score(in %):\",recall_score_svc)\n",
        "\n",
        "#classification_report,confusion_matrix\n",
        "\n",
        "print(classification_report(y_test, y_pred))\n",
        "print(confusion_matrix(y_test, y_pred))\n",
        "\n"
      ],
      "metadata": {
        "id": "eTqQXsm80hCs",
        "colab": {
          "base_uri": "https://localhost:8080/"
        },
        "outputId": "80304a0c-b5de-4483-b669-e4c40d7b9f7c"
      },
      "execution_count": null,
      "outputs": [
        {
          "output_type": "stream",
          "name": "stdout",
          "text": [
            "Score:  0.762214983713355\n",
            "RandomForestClassifier model accuracy for mean(in %): 0.7279217345319935\n",
            "RandomForestClassifier model accuracy for precision_score(in %): 0.7341597796143251\n",
            "RandomForestClassifier model accuracy for F1_score(in %): 0.7020617986844286\n",
            "0.6882045088566828\n",
            "RandomForestClassifier model accuracy for Recall_score(in %): 0.6882045088566828\n",
            "              precision    recall  f1-score   support\n",
            "\n",
            "           0       0.80      0.90      0.85       108\n",
            "           1       0.67      0.48      0.56        46\n",
            "\n",
            "    accuracy                           0.77       154\n",
            "   macro avg       0.73      0.69      0.70       154\n",
            "weighted avg       0.76      0.77      0.76       154\n",
            "\n",
            "[[97 11]\n",
            " [24 22]]\n"
          ]
        }
      ]
    },
    {
      "cell_type": "markdown",
      "source": [
        "##Support Vector Classifier"
      ],
      "metadata": {
        "id": "JBeIUJvZVuoI"
      }
    },
    {
      "cell_type": "code",
      "source": [
        "#Read dataset\n",
        "df = pd.read_csv('/content/drive/MyDrive/Data_set/Pima_Indians Diabetes_Database/diabetes.csv')\n",
        "\n",
        "#Split data in X and Y\n",
        "x = df.drop(['Outcome'], axis=1)\n",
        "y = df['Outcome']\n",
        "\n",
        "x = df.iloc[:-1]\n",
        "y = df.loc['Outcome']\n",
        "\n",
        "#Train , Test and  Split data\n",
        "x_train,x_test,y_train,y_test=train_test_split(x,y,test_size=0.20)\n",
        "\n",
        "# Fit the model SVC\n",
        "from sklearn.svm import SVC\n",
        "svclassifier = SVC(kernel='rbf')\n",
        "svclassifier.fit(x_train,y_train)\n",
        "\n",
        "# Predic the Y_Test data\n",
        "y_pred=svclassifier.predict(x_test)\n",
        "print(y_pred)\n",
        "\n",
        "\n",
        "# comparing actual response values (y_test) with predicted response values (y_pred)\n",
        "score = svclassifier.score(x_train,y_train)\n",
        "print(\"Score: \", score)\n",
        "\n",
        "\n",
        "#cross_val_score\n",
        "accuracies = cross_val_score(estimator = svclassifier, X = x_train, y = y_train, cv = 10)\n",
        "print(\"SVClassifier model accuracy for mean(in %):\", accuracies.mean())\n",
        "\n",
        "\n",
        "#precision_score\n",
        "precision_score_svc = precision_score(y_test, y_pred, average='macro')\n",
        "print(\"SVClassifier model accuracy for precision_score(in %):\",precision_score_svc)\n",
        "\n",
        "#F1 score\n",
        "f1_score_svc = f1_score(y_test, y_pred, average='macro')\n",
        "print(\"SVClassifier model accuracy for F1_score(in %):\",f1_score_svc)\n",
        "\n",
        "# recall score\n",
        "recall_score_svc = recall_score(y_test, y_pred, average='macro')\n",
        "print(recall_score_svc)\n",
        "recall_score_svc = metrics.recall_score(y_test, y_pred, average='macro')\n",
        "print(\"SVClassifier model accuracy for Recall_score(in %):\",recall_score_svc)\n",
        "\n",
        "#classification_report,confusion_matrix\n",
        "print(classification_report(y_test, y_pred))\n",
        "print(confusion_matrix(y_test, y_pred))\n",
        "\n"
      ],
      "metadata": {
        "colab": {
          "base_uri": "https://localhost:8080/"
        },
        "id": "NobjRxJ-M_Eu",
        "outputId": "7b032a89-3e19-4a73-f93b-ef46cd9f7cea"
      },
      "execution_count": null,
      "outputs": [
        {
          "output_type": "stream",
          "name": "stdout",
          "text": [
            "[0 0 1 0 0 0 0 0 0 0 0 1 0 1 1 1 1 1 0 0 0 0 0 1 0 0 0 0 0 1 0 1 1 0 0 0 0\n",
            " 0 0 0 0 0 1 0 0 0 0 0 0 0 0 0 0 0 0 0 0 0 0 0 1 0 1 0 0 0 0 0 0 0 0 0 0 0\n",
            " 1 1 0 0 0 1 0 1 0 0 1 0 0 0 1 0 0 0 1 0 0 1 1 0 0 0 0 1 0 0 0 1 0 0 1 0 0\n",
            " 0 1 0 0 1 0 0 0 0 0 1 0 0 0 0 0 0 0 1 0 1 0 0 0 0 1 0 0 0 0 1 0 0 0 0 0 0\n",
            " 0 0 1 0 0 0]\n",
            "Score:  0.7719869706840391\n",
            "SVClassifier model accuracy for mean(in %): 0.7542305658381808\n",
            "SVClassifier model accuracy for precision_score(in %): 0.7676470588235295\n",
            "SVClassifier model accuracy for F1_score(in %): 0.7278714859437752\n",
            "0.7122448979591837\n",
            "SVClassifier model accuracy for Recall_score(in %): 0.7122448979591837\n",
            "              precision    recall  f1-score   support\n",
            "\n",
            "           0       0.80      0.91      0.85       105\n",
            "           1       0.74      0.51      0.60        49\n",
            "\n",
            "    accuracy                           0.79       154\n",
            "   macro avg       0.77      0.71      0.73       154\n",
            "weighted avg       0.78      0.79      0.77       154\n",
            "\n",
            "[[96  9]\n",
            " [24 25]]\n"
          ]
        }
      ]
    },
    {
      "cell_type": "markdown",
      "source": [
        "##Neural Network Classifier"
      ],
      "metadata": {
        "id": "SF-37Ma2V0Vd"
      }
    },
    {
      "cell_type": "code",
      "source": [
        "#READ DATA\n",
        "df = pd.read_csv('/content/drive/MyDrive/Data_set/Pima_Indians Diabetes_Database/diabetes.csv')\n",
        "\n",
        "#SPLIT DATA X AND Y\n",
        "x = df.drop(['Outcome'], axis=1)\n",
        "y = df['Outcome']\n",
        "\n",
        "#Train , Test and  Split data\n",
        "x_train,x_test,y_train,y_test=train_test_split(x,y,test_size=0.20)\n",
        "\n",
        "# Fit the model\n",
        "from keras.models import Sequential\n",
        "from sklearn.metrics import accuracy_score\n",
        "from keras.layers import Dense\n",
        "\n",
        "model = Sequential([\n",
        "    Dense(32, activation='relu', input_shape=(8,)),\n",
        "    Dense(32, activation='relu'),\n",
        "    Dense(1, activation='sigmoid'),\n",
        "    ])\n",
        "#compile the model\n",
        "model.compile(optimizer='sgd',\n",
        "              loss='binary_crossentropy',\n",
        "              metrics=['accuracy'])\n",
        "#fit the model\n",
        "history = model.fit(x_train, y_train,\n",
        "          batch_size=32, epochs=5,verbose = 1 , validation_split= 0.2)\n"
      ],
      "metadata": {
        "colab": {
          "base_uri": "https://localhost:8080/"
        },
        "id": "vtcPX1DZOQ51",
        "outputId": "9e5f8fb9-c110-49f7-fc99-378dba50b2b7"
      },
      "execution_count": null,
      "outputs": [
        {
          "output_type": "stream",
          "name": "stdout",
          "text": [
            "Epoch 1/5\n",
            "16/16 [==============================] - 1s 21ms/step - loss: 8.3101 - accuracy: 0.5866 - val_loss: 0.7121 - val_accuracy: 0.6667\n",
            "Epoch 2/5\n",
            "16/16 [==============================] - 0s 5ms/step - loss: 0.6723 - accuracy: 0.6517 - val_loss: 0.6645 - val_accuracy: 0.6829\n",
            "Epoch 3/5\n",
            "16/16 [==============================] - 0s 6ms/step - loss: 0.6219 - accuracy: 0.6782 - val_loss: 0.6925 - val_accuracy: 0.6504\n",
            "Epoch 4/5\n",
            "16/16 [==============================] - 0s 6ms/step - loss: 0.6266 - accuracy: 0.6456 - val_loss: 0.6662 - val_accuracy: 0.6341\n",
            "Epoch 5/5\n",
            "16/16 [==============================] - 0s 5ms/step - loss: 0.6136 - accuracy: 0.6986 - val_loss: 0.6760 - val_accuracy: 0.6179\n",
            "5/5 [==============================] - 0s 3ms/step - loss: 0.6445 - accuracy: 0.6494\n",
            "0.649350643157959\n",
            "[[109   0]\n",
            " [ 45   0]]\n"
          ]
        }
      ]
    },
    {
      "cell_type": "code",
      "source": [
        "# evaluate model\n",
        "test_loss , test_acc = model.evaluate(x_test,y_test)\n",
        "print(test_acc)\n",
        "\n",
        "#predictions the model\n",
        "predictions = (model.predict(x_test)).astype(\"int32\")\n",
        "accuracy_score(y_test,predictions)\n",
        "pred = model.predict(x_test)\n",
        "print(pred)\n",
        "\n",
        "#Model History\n",
        "history.history\n",
        "\n",
        "# import sklearn.metrics\n",
        "import sklearn.metrics\n",
        "r = sklearn.metrics.confusion_matrix(y_test, predictions)\n",
        "print(r)"
      ],
      "metadata": {
        "colab": {
          "base_uri": "https://localhost:8080/"
        },
        "id": "yjo8SVJVW2XX",
        "outputId": "bd6afe61-7603-4fa5-ec5d-18b637629356"
      },
      "execution_count": null,
      "outputs": [
        {
          "output_type": "stream",
          "name": "stdout",
          "text": [
            "5/5 [==============================] - 0s 4ms/step - loss: 0.6445 - accuracy: 0.6494\n",
            "0.649350643157959\n",
            "[[0.37609708]\n",
            " [0.7079927 ]\n",
            " [0.33879644]\n",
            " [0.74855506]\n",
            " [0.32034498]\n",
            " [0.29810408]\n",
            " [0.56062394]\n",
            " [0.46430722]\n",
            " [0.4135166 ]\n",
            " [0.3141585 ]\n",
            " [0.2558819 ]\n",
            " [0.4566114 ]\n",
            " [0.54423183]\n",
            " [0.22637486]\n",
            " [0.21266279]\n",
            " [0.4087621 ]\n",
            " [0.70369685]\n",
            " [0.26747215]\n",
            " [0.7158131 ]\n",
            " [0.4898224 ]\n",
            " [0.22238702]\n",
            " [0.3140903 ]\n",
            " [0.29066485]\n",
            " [0.564922  ]\n",
            " [0.23643538]\n",
            " [0.40442142]\n",
            " [0.22036448]\n",
            " [0.35622364]\n",
            " [0.5396226 ]\n",
            " [0.3707349 ]\n",
            " [0.7667223 ]\n",
            " [0.71330386]\n",
            " [0.70408237]\n",
            " [0.73329055]\n",
            " [0.37847245]\n",
            " [0.61723757]\n",
            " [0.47754353]\n",
            " [0.4367631 ]\n",
            " [0.423282  ]\n",
            " [0.21298078]\n",
            " [0.47616974]\n",
            " [0.3192942 ]\n",
            " [0.31095612]\n",
            " [0.2540379 ]\n",
            " [0.4455992 ]\n",
            " [0.26732105]\n",
            " [0.30548406]\n",
            " [0.31107235]\n",
            " [0.29833066]\n",
            " [0.6802197 ]\n",
            " [0.31675476]\n",
            " [0.32349962]\n",
            " [0.41639778]\n",
            " [0.54218465]\n",
            " [0.3908493 ]\n",
            " [0.4314769 ]\n",
            " [0.30708516]\n",
            " [0.40274557]\n",
            " [0.43896642]\n",
            " [0.15819156]\n",
            " [0.49395546]\n",
            " [0.17840117]\n",
            " [0.3094546 ]\n",
            " [0.50298405]\n",
            " [0.23714796]\n",
            " [0.50729704]\n",
            " [0.7390655 ]\n",
            " [0.26955032]\n",
            " [0.5107272 ]\n",
            " [0.37747103]\n",
            " [0.3319263 ]\n",
            " [0.44217753]\n",
            " [0.23110941]\n",
            " [0.39922953]\n",
            " [0.45031554]\n",
            " [0.4357574 ]\n",
            " [0.49828395]\n",
            " [0.27809072]\n",
            " [0.23230192]\n",
            " [0.69657665]\n",
            " [0.39691982]\n",
            " [0.3603921 ]\n",
            " [0.34139404]\n",
            " [0.3018909 ]\n",
            " [0.26338872]\n",
            " [0.45028004]\n",
            " [0.353003  ]\n",
            " [0.35453928]\n",
            " [0.6919763 ]\n",
            " [0.36734307]\n",
            " [0.4471318 ]\n",
            " [0.53221667]\n",
            " [0.30137336]\n",
            " [0.4361831 ]\n",
            " [0.4682828 ]\n",
            " [0.46352696]\n",
            " [0.09985194]\n",
            " [0.5017072 ]\n",
            " [0.22949332]\n",
            " [0.5646819 ]\n",
            " [0.34199682]\n",
            " [0.39261144]\n",
            " [0.37939048]\n",
            " [0.6505535 ]\n",
            " [0.91088575]\n",
            " [0.3638633 ]\n",
            " [0.5429719 ]\n",
            " [0.24689329]\n",
            " [0.70111936]\n",
            " [0.74903804]\n",
            " [0.23942566]\n",
            " [0.18502241]\n",
            " [0.46334246]\n",
            " [0.3587164 ]\n",
            " [0.6680091 ]\n",
            " [0.40330616]\n",
            " [0.49348816]\n",
            " [0.42029148]\n",
            " [0.48984978]\n",
            " [0.28030977]\n",
            " [0.29105842]\n",
            " [0.3952301 ]\n",
            " [0.48960763]\n",
            " [0.4774922 ]\n",
            " [0.1884686 ]\n",
            " [0.8187567 ]\n",
            " [0.3808651 ]\n",
            " [0.349563  ]\n",
            " [0.11193827]\n",
            " [0.25749344]\n",
            " [0.47027442]\n",
            " [0.34410226]\n",
            " [0.50474703]\n",
            " [0.42932886]\n",
            " [0.44715637]\n",
            " [0.322447  ]\n",
            " [0.7261184 ]\n",
            " [0.40913093]\n",
            " [0.492008  ]\n",
            " [0.3269694 ]\n",
            " [0.7620277 ]\n",
            " [0.12724721]\n",
            " [0.57610756]\n",
            " [0.34102333]\n",
            " [0.28336668]\n",
            " [0.5249582 ]\n",
            " [0.35451853]\n",
            " [0.5250676 ]\n",
            " [0.6799185 ]\n",
            " [0.5181017 ]\n",
            " [0.6042311 ]\n",
            " [0.34510374]\n",
            " [0.5930567 ]\n",
            " [0.75474405]]\n",
            "[[96  0]\n",
            " [58  0]]\n"
          ]
        }
      ]
    },
    {
      "cell_type": "code",
      "source": [
        "import matplotlib.pyplot as plt\n",
        "\n",
        "\n",
        "# Plot training & validation accuracy values\n",
        "plt.plot(history.history['accuracy'])\n",
        "plt.plot(history.history['val_accuracy'])\n",
        "plt.title('Model accuracy')\n",
        "plt.ylabel('Accuracy')\n",
        "plt.xlabel('Epoch')\n",
        "plt.legend(['Train', 'Test'], loc='upper left')\n",
        "plt.show()\n"
      ],
      "metadata": {
        "colab": {
          "base_uri": "https://localhost:8080/",
          "height": 294
        },
        "id": "DxEHROUGXYyx",
        "outputId": "4074f8dc-3628-4376-b4f1-61958e2b733f"
      },
      "execution_count": null,
      "outputs": [
        {
          "output_type": "display_data",
          "data": {
            "text/plain": [
              "<Figure size 432x288 with 1 Axes>"
            ],
            "image/png": "[encoded data removed]"
          },
          "metadata": {
            "needs_background": "light"
          }
        }
      ]
    },
    {
      "cell_type": "code",
      "source": [
        "!pip install h5py\n",
        "#pip\n",
        "!pip install pickle-mixin\n",
        "\n",
        "#import library\n",
        "import pickle\n"
      ],
      "metadata": {
        "colab": {
          "base_uri": "https://localhost:8080/"
        },
        "id": "YBvprHJsaS17",
        "outputId": "15090066-7298-42cb-deb5-657aa6085456"
      },
      "execution_count": null,
      "outputs": [
        {
          "output_type": "stream",
          "name": "stdout",
          "text": [
            "Requirement already satisfied: h5py in /usr/local/lib/python3.7/dist-packages (3.1.0)\n",
            "Requirement already satisfied: numpy>=1.14.5 in /usr/local/lib/python3.7/dist-packages (from h5py) (1.21.6)\n",
            "Requirement already satisfied: cached-property in /usr/local/lib/python3.7/dist-packages (from h5py) (1.5.2)\n",
            "Collecting pickle-mixin\n",
            "  Downloading pickle-mixin-1.0.2.tar.gz (5.1 kB)\n",
            "Building wheels for collected packages: pickle-mixin\n",
            "  Building wheel for pickle-mixin (setup.py) ... \u001b[?25l\u001b[?25hdone\n",
            "  Created wheel for pickle-mixin: filename=pickle_mixin-1.0.2-py3-none-any.whl size=6008 sha256=5ae89254be571030b264e5d8f2166ac032bab2b14803af574aacd712e0293841\n",
            "  Stored in directory: /root/.cache/pip/wheels/d0/70/0b/673e09a7ed429660d22352a1b117b4f616a8fc054bdd7eb157\n",
            "Successfully built pickle-mixin\n",
            "Installing collected packages: pickle-mixin\n",
            "Successfully installed pickle-mixin-1.0.2\n"
          ]
        }
      ]
    },
    {
      "cell_type": "code",
      "source": [
        "filename = 'DIABETES_model.h5'\n",
        "pickle.dump(model, open(filename, 'wb'))"
      ],
      "metadata": {
        "colab": {
          "base_uri": "https://localhost:8080/"
        },
        "id": "OYIhW2AwdGOW",
        "outputId": "91059367-3761-412b-ff96-0972a9d2a4e3"
      },
      "execution_count": null,
      "outputs": [
        {
          "output_type": "stream",
          "name": "stdout",
          "text": [
            "INFO:tensorflow:Assets written to: ram://56c15cb8-3aaa-453b-9382-f050c4bb6847/assets\n"
          ]
        }
      ]
    },
    {
      "cell_type": "code",
      "source": [],
      "metadata": {
        "id": "znYbM8nodnnM"
      },
      "execution_count": null,
      "outputs": []
    }
  ]
}